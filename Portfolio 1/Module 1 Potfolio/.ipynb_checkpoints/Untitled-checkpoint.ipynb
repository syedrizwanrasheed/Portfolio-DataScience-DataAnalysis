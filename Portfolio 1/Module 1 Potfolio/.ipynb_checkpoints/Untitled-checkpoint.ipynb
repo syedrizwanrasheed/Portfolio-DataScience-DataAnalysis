{
 "cells": [
  {
   "cell_type": "code",
   "execution_count": 1,
   "id": "56062d74",
   "metadata": {},
   "outputs": [],
   "source": [
    "import csv\n",
    "dataset = list(csv.reader(open(\"grades.csv\", encoding = 'utf-8')))"
   ]
  },
  {
   "cell_type": "code",
   "execution_count": 2,
   "id": "762789ea",
   "metadata": {},
   "outputs": [
    {
     "data": {
      "text/plain": [
       "[['roll no', 'Name', 'Chemistry', 'Physics', 'Math'],\n",
       " ['101', 'Aliza', '50', '23', '87'],\n",
       " ['102', 'Fareed', '45', '24', '88'],\n",
       " ['103', 'Basit', '46', '25', '89'],\n",
       " ['104', 'Abdullah', '47', '26', '90'],\n",
       " ['105', 'Ali', '48', '27', '67'],\n",
       " ['106', 'Mubashir', '49', '28', '68'],\n",
       " ['107', 'Waleed', '50', '29', '69'],\n",
       " ['108', 'Mansoor', '51', '30', '70'],\n",
       " ['109', 'Zain', '52', '31', '71'],\n",
       " ['110', 'Mohsin', '53', '67', '72'],\n",
       " ['111', 'Shahmeer', '54', '68', '73'],\n",
       " ['112', 'Rao', '55', '69', '74'],\n",
       " ['113', 'Aurangzeb', '56', '70', '75'],\n",
       " ['114', 'Zeeshan', '57', '71', '76'],\n",
       " ['115', 'Humza', '58', '72', '77'],\n",
       " ['116', 'Hamza', '59', '73', '78'],\n",
       " ['117', 'Khalid', '60', '74', '79'],\n",
       " ['118', 'Behroz', '61', '75', '80'],\n",
       " ['119', 'Justin', '62', '76', '81'],\n",
       " ['120', 'Danial', '63', '77', '82']]"
      ]
     },
     "execution_count": 2,
     "metadata": {},
     "output_type": "execute_result"
    }
   ],
   "source": [
    "dataset"
   ]
  },
  {
   "cell_type": "code",
   "execution_count": 3,
   "id": "7618fd8b",
   "metadata": {},
   "outputs": [],
   "source": [
    "dataset[0].append('Total')"
   ]
  },
  {
   "cell_type": "code",
   "execution_count": 4,
   "id": "34d5dcad",
   "metadata": {},
   "outputs": [
    {
     "data": {
      "text/plain": [
       "2"
      ]
     },
     "execution_count": 4,
     "metadata": {},
     "output_type": "execute_result"
    }
   ],
   "source": [
    "dataset[0].index('Chemistry')"
   ]
  },
  {
   "cell_type": "code",
   "execution_count": 5,
   "id": "33ce55be",
   "metadata": {},
   "outputs": [
    {
     "data": {
      "text/plain": [
       "3"
      ]
     },
     "execution_count": 5,
     "metadata": {},
     "output_type": "execute_result"
    }
   ],
   "source": [
    "dataset[0].index('Physics')"
   ]
  },
  {
   "cell_type": "code",
   "execution_count": 6,
   "id": "e24de099",
   "metadata": {},
   "outputs": [
    {
     "data": {
      "text/plain": [
       "4"
      ]
     },
     "execution_count": 6,
     "metadata": {},
     "output_type": "execute_result"
    }
   ],
   "source": [
    "dataset[0].index('Math')"
   ]
  },
  {
   "cell_type": "code",
   "execution_count": 7,
   "id": "218517d2",
   "metadata": {},
   "outputs": [],
   "source": [
    "for i in dataset[1:]:\n",
    "    chem = int(i[2])\n",
    "    phy = int(i[3])\n",
    "    math = int(i[4])\n",
    "    total = chem + phy + math\n",
    "    i.append(total)"
   ]
  },
  {
   "cell_type": "code",
   "execution_count": 8,
   "id": "4ad13c6d",
   "metadata": {},
   "outputs": [
    {
     "data": {
      "text/plain": [
       "[['roll no', 'Name', 'Chemistry', 'Physics', 'Math', 'Total'],\n",
       " ['101', 'Aliza', '50', '23', '87', 160],\n",
       " ['102', 'Fareed', '45', '24', '88', 157],\n",
       " ['103', 'Basit', '46', '25', '89', 160],\n",
       " ['104', 'Abdullah', '47', '26', '90', 163],\n",
       " ['105', 'Ali', '48', '27', '67', 142],\n",
       " ['106', 'Mubashir', '49', '28', '68', 145],\n",
       " ['107', 'Waleed', '50', '29', '69', 148],\n",
       " ['108', 'Mansoor', '51', '30', '70', 151],\n",
       " ['109', 'Zain', '52', '31', '71', 154],\n",
       " ['110', 'Mohsin', '53', '67', '72', 192],\n",
       " ['111', 'Shahmeer', '54', '68', '73', 195],\n",
       " ['112', 'Rao', '55', '69', '74', 198],\n",
       " ['113', 'Aurangzeb', '56', '70', '75', 201],\n",
       " ['114', 'Zeeshan', '57', '71', '76', 204],\n",
       " ['115', 'Humza', '58', '72', '77', 207],\n",
       " ['116', 'Hamza', '59', '73', '78', 210],\n",
       " ['117', 'Khalid', '60', '74', '79', 213],\n",
       " ['118', 'Behroz', '61', '75', '80', 216],\n",
       " ['119', 'Justin', '62', '76', '81', 219],\n",
       " ['120', 'Danial', '63', '77', '82', 222]]"
      ]
     },
     "execution_count": 8,
     "metadata": {},
     "output_type": "execute_result"
    }
   ],
   "source": [
    "dataset"
   ]
  },
  {
   "cell_type": "code",
   "execution_count": 9,
   "id": "4eeec270",
   "metadata": {},
   "outputs": [],
   "source": [
    "dataset[0].append(\"Percentage\")"
   ]
  },
  {
   "cell_type": "code",
   "execution_count": 10,
   "id": "cfff3651",
   "metadata": {},
   "outputs": [
    {
     "data": {
      "text/plain": [
       "[['roll no', 'Name', 'Chemistry', 'Physics', 'Math', 'Total', 'Percentage'],\n",
       " ['101', 'Aliza', '50', '23', '87', 160],\n",
       " ['102', 'Fareed', '45', '24', '88', 157],\n",
       " ['103', 'Basit', '46', '25', '89', 160],\n",
       " ['104', 'Abdullah', '47', '26', '90', 163],\n",
       " ['105', 'Ali', '48', '27', '67', 142],\n",
       " ['106', 'Mubashir', '49', '28', '68', 145],\n",
       " ['107', 'Waleed', '50', '29', '69', 148],\n",
       " ['108', 'Mansoor', '51', '30', '70', 151],\n",
       " ['109', 'Zain', '52', '31', '71', 154],\n",
       " ['110', 'Mohsin', '53', '67', '72', 192],\n",
       " ['111', 'Shahmeer', '54', '68', '73', 195],\n",
       " ['112', 'Rao', '55', '69', '74', 198],\n",
       " ['113', 'Aurangzeb', '56', '70', '75', 201],\n",
       " ['114', 'Zeeshan', '57', '71', '76', 204],\n",
       " ['115', 'Humza', '58', '72', '77', 207],\n",
       " ['116', 'Hamza', '59', '73', '78', 210],\n",
       " ['117', 'Khalid', '60', '74', '79', 213],\n",
       " ['118', 'Behroz', '61', '75', '80', 216],\n",
       " ['119', 'Justin', '62', '76', '81', 219],\n",
       " ['120', 'Danial', '63', '77', '82', 222]]"
      ]
     },
     "execution_count": 10,
     "metadata": {},
     "output_type": "execute_result"
    }
   ],
   "source": [
    "dataset"
   ]
  },
  {
   "cell_type": "code",
   "execution_count": 11,
   "id": "d5b5309a",
   "metadata": {},
   "outputs": [],
   "source": [
    "for i in dataset[1:]:\n",
    "    chem = int(i[2])\n",
    "    phy = int(i[3])\n",
    "    math = int(i[4])\n",
    "    total_marks = chem+phy+math\n",
    "    per = (total_marks/300)*100\n",
    "    per = round(per)\n",
    "    i.append(per)"
   ]
  },
  {
   "cell_type": "code",
   "execution_count": 12,
   "id": "3b693087",
   "metadata": {},
   "outputs": [
    {
     "data": {
      "text/plain": [
       "[['roll no', 'Name', 'Chemistry', 'Physics', 'Math', 'Total', 'Percentage'],\n",
       " ['101', 'Aliza', '50', '23', '87', 160, 53],\n",
       " ['102', 'Fareed', '45', '24', '88', 157, 52],\n",
       " ['103', 'Basit', '46', '25', '89', 160, 53],\n",
       " ['104', 'Abdullah', '47', '26', '90', 163, 54],\n",
       " ['105', 'Ali', '48', '27', '67', 142, 47],\n",
       " ['106', 'Mubashir', '49', '28', '68', 145, 48],\n",
       " ['107', 'Waleed', '50', '29', '69', 148, 49],\n",
       " ['108', 'Mansoor', '51', '30', '70', 151, 50],\n",
       " ['109', 'Zain', '52', '31', '71', 154, 51],\n",
       " ['110', 'Mohsin', '53', '67', '72', 192, 64],\n",
       " ['111', 'Shahmeer', '54', '68', '73', 195, 65],\n",
       " ['112', 'Rao', '55', '69', '74', 198, 66],\n",
       " ['113', 'Aurangzeb', '56', '70', '75', 201, 67],\n",
       " ['114', 'Zeeshan', '57', '71', '76', 204, 68],\n",
       " ['115', 'Humza', '58', '72', '77', 207, 69],\n",
       " ['116', 'Hamza', '59', '73', '78', 210, 70],\n",
       " ['117', 'Khalid', '60', '74', '79', 213, 71],\n",
       " ['118', 'Behroz', '61', '75', '80', 216, 72],\n",
       " ['119', 'Justin', '62', '76', '81', 219, 73],\n",
       " ['120', 'Danial', '63', '77', '82', 222, 74]]"
      ]
     },
     "execution_count": 12,
     "metadata": {},
     "output_type": "execute_result"
    }
   ],
   "source": [
    "dataset"
   ]
  },
  {
   "cell_type": "code",
   "execution_count": 14,
   "id": "2c1b8589",
   "metadata": {},
   "outputs": [],
   "source": [
    "## To find average of chemistry, physics and math\n",
    "chemistry = []\n",
    "physics = []\n",
    "mathematics = []\n",
    "for i in dataset[1:]:\n",
    "    chem = int(i[2])\n",
    "    phy = int(i[3])\n",
    "    math = int(i[4])\n",
    "    chemistry.append(chem)\n",
    "    physics.append(phy)\n",
    "    mathematics.append(math)"
   ]
  },
  {
   "cell_type": "code",
   "execution_count": 16,
   "id": "ff47342e",
   "metadata": {},
   "outputs": [
    {
     "data": {
      "text/plain": [
       "53.8"
      ]
     },
     "execution_count": 16,
     "metadata": {},
     "output_type": "execute_result"
    }
   ],
   "source": [
    "sum(chemistry)/len(chemistry)"
   ]
  },
  {
   "cell_type": "code",
   "execution_count": 17,
   "id": "a91146a3",
   "metadata": {},
   "outputs": [
    {
     "data": {
      "text/plain": [
       "51.75"
      ]
     },
     "execution_count": 17,
     "metadata": {},
     "output_type": "execute_result"
    }
   ],
   "source": [
    "sum(physics)/len(physics)"
   ]
  },
  {
   "cell_type": "code",
   "execution_count": 18,
   "id": "e2708864",
   "metadata": {},
   "outputs": [
    {
     "data": {
      "text/plain": [
       "77.3"
      ]
     },
     "execution_count": 18,
     "metadata": {},
     "output_type": "execute_result"
    }
   ],
   "source": [
    "sum(mathematics)/len(mathematics)"
   ]
  },
  {
   "cell_type": "code",
   "execution_count": null,
   "id": "f6362fef",
   "metadata": {},
   "outputs": [],
   "source": []
  }
 ],
 "metadata": {
  "kernelspec": {
   "display_name": "Python 3 (ipykernel)",
   "language": "python",
   "name": "python3"
  },
  "language_info": {
   "codemirror_mode": {
    "name": "ipython",
    "version": 3
   },
   "file_extension": ".py",
   "mimetype": "text/x-python",
   "name": "python",
   "nbconvert_exporter": "python",
   "pygments_lexer": "ipython3",
   "version": "3.9.13"
  }
 },
 "nbformat": 4,
 "nbformat_minor": 5
}
